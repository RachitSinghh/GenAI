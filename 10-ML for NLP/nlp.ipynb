{
 "cells": [
  {
   "cell_type": "markdown",
   "metadata": {},
   "source": [
    "# Tokenization\n",
    "\n",
    "- Topics \n",
    "    - Corpus => Paragraph\n",
    "    - Documents => Sentences\n",
    "    - Vocabulary => Unique words\n",
    "    - Words \n",
    "\n",
    "# Tokenization explaination \n",
    "- Tokenization is a process where in we take either a paragraph or a sentence and we convert into tokens. If i convert a paragraph into tokens, that basically means I'm converting a paragraph into sentences, i can also convert a paragraph into words. If i'm converting into words single single words become token, and if I'm trying to convert a paragraph into sentence every sentence will be a token. "
   ]
  },
  {
   "cell_type": "markdown",
   "metadata": {},
   "source": [
    "## Tokenizatio Example"
   ]
  },
  {
   "cell_type": "code",
   "execution_count": 23,
   "metadata": {},
   "outputs": [],
   "source": [
    "corpus = \"\"\"Hello welcome, my Gen ai learning series. today i'm learning tokenization!\n",
    "    which i will upload it on github. \n",
    "\"\"\""
   ]
  },
  {
   "cell_type": "code",
   "execution_count": 24,
   "metadata": {},
   "outputs": [
    {
     "name": "stdout",
     "output_type": "stream",
     "text": [
      "Hello welcome, my Gen ai learning series. today i'm learning tokenization!\n",
      "    which i will upload it on github. \n",
      "\n"
     ]
    }
   ],
   "source": [
    "print(corpus)\n"
   ]
  },
  {
   "cell_type": "code",
   "execution_count": 25,
   "metadata": {},
   "outputs": [],
   "source": [
    "# Tokenization\n",
    "# sentence --> paragraph\n",
    "from nltk.tokenize import sent_tokenize"
   ]
  },
  {
   "cell_type": "code",
   "execution_count": 26,
   "metadata": {},
   "outputs": [],
   "source": [
    "documents = sent_tokenize(corpus)"
   ]
  },
  {
   "cell_type": "code",
   "execution_count": 27,
   "metadata": {},
   "outputs": [
    {
     "data": {
      "text/plain": [
       "list"
      ]
     },
     "execution_count": 27,
     "metadata": {},
     "output_type": "execute_result"
    }
   ],
   "source": [
    "type(documents)"
   ]
  },
  {
   "cell_type": "code",
   "execution_count": 28,
   "metadata": {},
   "outputs": [
    {
     "name": "stdout",
     "output_type": "stream",
     "text": [
      "Hello welcome, my Gen ai learning series.\n",
      "today i'm learning tokenization!\n",
      "which i will upload it on github.\n"
     ]
    }
   ],
   "source": [
    "for sentence in documents:\n",
    "    print(sentence)"
   ]
  },
  {
   "cell_type": "code",
   "execution_count": 33,
   "metadata": {},
   "outputs": [],
   "source": [
    "## tokenization \n",
    "## a paragraph --> words \n",
    "## sentence ---> words\n",
    "from nltk.tokenize import word_tokenize"
   ]
  },
  {
   "cell_type": "code",
   "execution_count": 35,
   "metadata": {},
   "outputs": [
    {
     "data": {
      "text/plain": [
       "['Hello',\n",
       " 'welcome',\n",
       " ',',\n",
       " 'my',\n",
       " 'Gen',\n",
       " 'ai',\n",
       " 'learning',\n",
       " 'series',\n",
       " '.',\n",
       " 'today',\n",
       " 'i',\n",
       " \"'m\",\n",
       " 'learning',\n",
       " 'tokenization',\n",
       " '!',\n",
       " 'which',\n",
       " 'i',\n",
       " 'will',\n",
       " 'upload',\n",
       " 'it',\n",
       " 'on',\n",
       " 'github',\n",
       " '.']"
      ]
     },
     "execution_count": 35,
     "metadata": {},
     "output_type": "execute_result"
    }
   ],
   "source": [
    "word_tokenize(corpus)"
   ]
  },
  {
   "cell_type": "code",
   "execution_count": 37,
   "metadata": {},
   "outputs": [],
   "source": [
    "from nltk.tokenize import wordpunct_tokenize"
   ]
  },
  {
   "cell_type": "code",
   "execution_count": 38,
   "metadata": {},
   "outputs": [
    {
     "data": {
      "text/plain": [
       "['Hello',\n",
       " 'welcome',\n",
       " ',',\n",
       " 'my',\n",
       " 'Gen',\n",
       " 'ai',\n",
       " 'learning',\n",
       " 'series',\n",
       " '.',\n",
       " 'today',\n",
       " 'i',\n",
       " \"'\",\n",
       " 'm',\n",
       " 'learning',\n",
       " 'tokenization',\n",
       " '!',\n",
       " 'which',\n",
       " 'i',\n",
       " 'will',\n",
       " 'upload',\n",
       " 'it',\n",
       " 'on',\n",
       " 'github',\n",
       " '.']"
      ]
     },
     "execution_count": 38,
     "metadata": {},
     "output_type": "execute_result"
    }
   ],
   "source": [
    "wordpunct_tokenize(corpus)"
   ]
  }
 ],
 "metadata": {
  "kernelspec": {
   "display_name": "Python 3 (ipykernel)",
   "language": "python",
   "name": "python3"
  },
  "language_info": {
   "codemirror_mode": {
    "name": "ipython",
    "version": 3
   },
   "file_extension": ".py",
   "mimetype": "text/x-python",
   "name": "python",
   "nbconvert_exporter": "python",
   "pygments_lexer": "ipython3",
   "version": "3.12.4"
  }
 },
 "nbformat": 4,
 "nbformat_minor": 4
}
